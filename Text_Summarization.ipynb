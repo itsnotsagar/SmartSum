{
  "cells": [
    {
      "cell_type": "markdown",
      "metadata": {
        "id": "view-in-github",
        "colab_type": "text"
      },
      "source": [
        "<a href=\"https://colab.research.google.com/github/itsnotsagar/text_summarization/blob/main/Text_Summarization.ipynb\" target=\"_parent\"><img src=\"https://colab.research.google.com/assets/colab-badge.svg\" alt=\"Open In Colab\"/></a>"
      ]
    },
    {
      "cell_type": "code",
      "execution_count": null,
      "metadata": {
        "id": "z9qHcX3Qja1P",
        "outputId": "a2d70ecb-1417-4af7-b376-2958b6cc2d6c",
        "colab": {
          "base_uri": "https://localhost:8080/",
          "height": 53
        }
      },
      "outputs": [
        {
          "output_type": "execute_result",
          "data": {
            "text/plain": [
              "'\\n- Get Similarity between sentinces, How the sentences is simler to each other, By calculating the Scoore for each sentence.\\n\\n'"
            ],
            "application/vnd.google.colaboratory.intrinsic+json": {
              "type": "string"
            }
          },
          "metadata": {},
          "execution_count": 3
        }
      ],
      "source": [
        "# Text Summarization - Cosine Similarity\n",
        "'''\n",
        "- Get Similarity between sentinces, How the sentences is simler to each other, By calculating the Scoore for each sentence.\n",
        "\n",
        "'''"
      ]
    },
    {
      "cell_type": "code",
      "execution_count": null,
      "metadata": {
        "id": "Mp4vZBBIja1Q"
      },
      "outputs": [],
      "source": [
        "import re # Regex lib\n",
        "import nltk # Natural Language Processing lib\n",
        "import string \n",
        "import numpy as np # to get access to Vectors and matrix\n",
        "import networkx as nx # generate a graph structure\n",
        "from nltk.cluster.util import cosine_distance # function used to calculate the similarity of sentences"
      ]
    },
    {
      "cell_type": "code",
      "execution_count": null,
      "metadata": {
        "id": "6Bco0TgBja1Q",
        "outputId": "31eb8176-2267-4dae-be8a-2525d0e27595",
        "colab": {
          "base_uri": "https://localhost:8080/"
        }
      },
      "outputs": [
        {
          "output_type": "stream",
          "name": "stderr",
          "text": [
            "[nltk_data] Downloading package punkt to /root/nltk_data...\n",
            "[nltk_data]   Package punkt is already up-to-date!\n",
            "[nltk_data] Downloading package stopwords to /root/nltk_data...\n",
            "[nltk_data]   Package stopwords is already up-to-date!\n"
          ]
        },
        {
          "output_type": "execute_result",
          "data": {
            "text/plain": [
              "True"
            ]
          },
          "metadata": {},
          "execution_count": 5
        }
      ],
      "source": [
        "nltk.download('punkt') # to have access to sentences Tokenization\n",
        "nltk.download('stopwords') # get access to Stopwords"
      ]
    },
    {
      "cell_type": "code",
      "execution_count": null,
      "metadata": {
        "id": "cWBEmKGLja1R",
        "outputId": "1b014713-b5af-47f8-b8f6-0250f7605bf0",
        "colab": {
          "base_uri": "https://localhost:8080/"
        }
      },
      "outputs": [
        {
          "output_type": "stream",
          "name": "stdout",
          "text": [
            "['i', 'me', 'my', 'myself', 'we', 'our', 'ours', 'ourselves', 'you', \"you're\", \"you've\", \"you'll\", \"you'd\", 'your', 'yours', 'yourself', 'yourselves', 'he', 'him', 'his', 'himself', 'she', \"she's\", 'her', 'hers', 'herself', 'it', \"it's\", 'its', 'itself', 'they', 'them', 'their', 'theirs', 'themselves', 'what', 'which', 'who', 'whom', 'this', 'that', \"that'll\", 'these', 'those', 'am', 'is', 'are', 'was', 'were', 'be', 'been', 'being', 'have', 'has', 'had', 'having', 'do', 'does', 'did', 'doing', 'a', 'an', 'the', 'and', 'but', 'if', 'or', 'because', 'as', 'until', 'while', 'of', 'at', 'by', 'for', 'with', 'about', 'against', 'between', 'into', 'through', 'during', 'before', 'after', 'above', 'below', 'to', 'from', 'up', 'down', 'in', 'out', 'on', 'off', 'over', 'under', 'again', 'further', 'then', 'once', 'here', 'there', 'when', 'where', 'why', 'how', 'all', 'any', 'both', 'each', 'few', 'more', 'most', 'other', 'some', 'such', 'no', 'nor', 'not', 'only', 'own', 'same', 'so', 'than', 'too', 'very', 's', 't', 'can', 'will', 'just', 'don', \"don't\", 'should', \"should've\", 'now', 'd', 'll', 'm', 'o', 're', 've', 'y', 'ain', 'aren', \"aren't\", 'couldn', \"couldn't\", 'didn', \"didn't\", 'doesn', \"doesn't\", 'hadn', \"hadn't\", 'hasn', \"hasn't\", 'haven', \"haven't\", 'isn', \"isn't\", 'ma', 'mightn', \"mightn't\", 'mustn', \"mustn't\", 'needn', \"needn't\", 'shan', \"shan't\", 'shouldn', \"shouldn't\", 'wasn', \"wasn't\", 'weren', \"weren't\", 'won', \"won't\", 'wouldn', \"wouldn't\"]\n"
          ]
        }
      ],
      "source": [
        "stopwords = nltk.corpus.stopwords.words('english') # Words to be removed from each sentence\n",
        "print(stopwords) "
      ]
    },
    {
      "cell_type": "code",
      "execution_count": null,
      "metadata": {
        "id": "k2YWZMcRja1R"
      },
      "outputs": [],
      "source": [
        "def preprocess_sentences(text):\n",
        "    processed_text = text.lower()\n",
        "    tokens = []\n",
        "    for token in nltk.word_tokenize(processed_text):\n",
        "        tokens.append(token)\n",
        "    tokens = [word for word in tokens if word not in stopwords and word not in string.punctuation]\n",
        "    processed_text = ' '.join(element for element in tokens)\n",
        "    return processed_text"
      ]
    },
    {
      "cell_type": "code",
      "execution_count": null,
      "metadata": {
        "id": "srY7uZcHja1R",
        "outputId": "6fecde20-c46f-45b7-9842-65477f66aa48",
        "colab": {
          "base_uri": "https://localhost:8080/",
          "height": 161
        }
      },
      "outputs": [
        {
          "output_type": "execute_result",
          "data": {
            "text/plain": [
              "'Samurai were the hereditary military nobility and officer caste of medieval and early-modern Japan from the late 12th century to their abolition in 1876. They were the well-paid retainers of the daimyo (the great feudal landholders). They had high prestige and special privileges such as wearing two swords. They cultivated the bushido codes of martial virtues, indifference to pain, and unflinching loyalty, engaging in many local battles. Though they had predecessors in earlier military and administrative officers, the samurai truly emerged during the Kamakura shogunate, ruling from c.1185–1333. They became the ruling political class, with significant power but also significant responsibility. During the 13th century, the samurai proved themselves as adept warriors against the invading Mongols. During the peaceful Edo era (1603 to 1868), they became the stewards and chamberlains of the daimyo estates, gaining managerial experience and education. In the 1870s samurai families comprised 5% of the population. As modern militaries emerged in the 19th century, the Samurai were rendered increasingly obsolete as very expensive to maintain compared to the average conscript soldier. The Meiji Restoration ended their feudal roles, and they moved into professional and entrepreneurial roles. Their memory and weaponry remain prominent in Japanese popular culture.'"
            ],
            "application/vnd.google.colaboratory.intrinsic+json": {
              "type": "string"
            }
          },
          "metadata": {},
          "execution_count": 8
        }
      ],
      "source": [
        "# The orginal Paragraph from Wikipedia: https://en.wikipedia.org/wiki/Samurai\n",
        "original_text = \"\"\"Samurai were the hereditary military nobility and officer caste of medieval and \n",
        "                    early-modern Japan from the late 12th century to their abolition in 1876. \n",
        "                    They were the well-paid retainers of the daimyo (the great feudal landholders). \n",
        "                    They had high prestige and special privileges such as wearing two swords. \n",
        "                    They cultivated the bushido codes of martial virtues, indifference to pain,\n",
        "                     and unflinching loyalty, engaging in many local battles. Though they had predecessors\n",
        "                      in earlier military and administrative officers, the samurai truly emerged during the\n",
        "                       Kamakura shogunate, ruling from c.1185–1333. They became the ruling political class,\n",
        "                        with significant power but also significant responsibility. During the 13th century,\n",
        "                         the samurai proved themselves as adept warriors against the invading Mongols.\n",
        "                          During the peaceful Edo era (1603 to 1868), they became the stewards and chamberlains\n",
        "                           of the daimyo estates, gaining managerial experience and education.\n",
        "                            In the 1870s samurai families comprised 5% of the population. \n",
        "                            As modern militaries emerged in the 19th century, \n",
        "                            the Samurai were rendered increasingly obsolete as very expensive to maintain\n",
        "                             compared to the average conscript soldier. The Meiji Restoration ended their\n",
        "                              feudal roles, and they moved into professional and entrepreneurial roles.\n",
        "                               Their memory and weaponry remain prominent in Japanese popular culture.\"\"\"\n",
        "\n",
        "original_text = re.sub(r'\\s+', ' ', original_text)\n",
        "original_text # final text to test the algorithm"
      ]
    },
    {
      "cell_type": "code",
      "execution_count": null,
      "metadata": {
        "id": "xbqW9hpkja1S",
        "outputId": "68afa470-51c2-49fe-8b0f-be077d6303a7",
        "colab": {
          "base_uri": "https://localhost:8080/"
        }
      },
      "outputs": [
        {
          "output_type": "execute_result",
          "data": {
            "text/plain": [
              "['Samurai were the hereditary military nobility and officer caste of medieval and early-modern Japan from the late 12th century to their abolition in 1876.',\n",
              " 'They were the well-paid retainers of the daimyo (the great feudal landholders).',\n",
              " 'They had high prestige and special privileges such as wearing two swords.',\n",
              " 'They cultivated the bushido codes of martial virtues, indifference to pain, and unflinching loyalty, engaging in many local battles.',\n",
              " 'Though they had predecessors in earlier military and administrative officers, the samurai truly emerged during the Kamakura shogunate, ruling from c.1185–1333.',\n",
              " 'They became the ruling political class, with significant power but also significant responsibility.',\n",
              " 'During the 13th century, the samurai proved themselves as adept warriors against the invading Mongols.',\n",
              " 'During the peaceful Edo era (1603 to 1868), they became the stewards and chamberlains of the daimyo estates, gaining managerial experience and education.',\n",
              " 'In the 1870s samurai families comprised 5% of the population.',\n",
              " 'As modern militaries emerged in the 19th century, the Samurai were rendered increasingly obsolete as very expensive to maintain compared to the average conscript soldier.',\n",
              " 'The Meiji Restoration ended their feudal roles, and they moved into professional and entrepreneurial roles.',\n",
              " 'Their memory and weaponry remain prominent in Japanese popular culture.']"
            ]
          },
          "metadata": {},
          "execution_count": 9
        }
      ],
      "source": [
        "\"\"\"\n",
        "- Calculate how similar are the sentences to each others\n",
        "\"\"\"\n",
        "\n",
        "oreginal_sentences = [sentence for sentence in nltk.sent_tokenize(original_text)]\n",
        "oreginal_sentences # view sentence by sentence"
      ]
    },
    {
      "cell_type": "code",
      "execution_count": null,
      "metadata": {
        "id": "A0E-Es2Mja1S",
        "outputId": "ff7a4abe-c8b0-4c2b-8462-90878b8edf94",
        "colab": {
          "base_uri": "https://localhost:8080/"
        }
      },
      "outputs": [
        {
          "output_type": "execute_result",
          "data": {
            "text/plain": [
              "['samurai hereditary military nobility officer caste medieval early-modern japan late 12th century abolition 1876',\n",
              " 'well-paid retainers daimyo great feudal landholders',\n",
              " 'high prestige special privileges wearing two swords',\n",
              " 'cultivated bushido codes martial virtues indifference pain unflinching loyalty engaging many local battles',\n",
              " 'though predecessors earlier military administrative officers samurai truly emerged kamakura shogunate ruling c.1185–1333',\n",
              " 'became ruling political class significant power also significant responsibility',\n",
              " '13th century samurai proved adept warriors invading mongols',\n",
              " 'peaceful edo era 1603 1868 became stewards chamberlains daimyo estates gaining managerial experience education',\n",
              " '1870s samurai families comprised 5 population',\n",
              " 'modern militaries emerged 19th century samurai rendered increasingly obsolete expensive maintain compared average conscript soldier',\n",
              " 'meiji restoration ended feudal roles moved professional entrepreneurial roles',\n",
              " 'memory weaponry remain prominent japanese popular culture']"
            ]
          },
          "metadata": {},
          "execution_count": 10
        }
      ],
      "source": [
        "formatted_sentences = [preprocess_sentences(oreginal_sentence) for oreginal_sentence in oreginal_sentences]\n",
        "formatted_sentences"
      ]
    },
    {
      "cell_type": "code",
      "execution_count": null,
      "metadata": {
        "id": "Bm459KO9ja1S"
      },
      "outputs": [],
      "source": [
        "def calculate_sentence_similarity(sentence1, sentence2):\n",
        "    words1 = [word for word in nltk.word_tokenize(sentence1)]\n",
        "    words2 = [word for word in nltk.word_tokenize(sentence2)]\n",
        "    #print(words2)\n",
        "    # calculate_sentence_similarity(formatted_sentences[0], formatted_sentences[1])\n",
        "    # get uniqes words insted of a repeated words\n",
        "\n",
        "    all_words = list(set(words1 + words2))\n",
        "\n",
        "    #print(all_words)\n",
        "\n",
        "    # get a zeros vector / Needed for Mathematical calculation\n",
        "    #                                   also we need to convert the words to a mathematical forms so we can apply the \n",
        "    #                                   equation.\n",
        "    vector1 = [0] * len(all_words) \n",
        "    vector2 = [0] * len(all_words)\n",
        "\n",
        "     # to convert text to number we will use the \"Bag of words\" techniqe\n",
        "    for word in words1:\n",
        "        #print(word)\n",
        "        vector1[all_words.index(word)] += 1\n",
        "\n",
        "    for word in words2:\n",
        "        vector2[all_words.index(word)] += 1\n",
        "\n",
        "    #print(vector2) \n",
        "    return 1 - cosine_distance(vector1, vector2)   # because its always return the abs value   "
      ]
    },
    {
      "cell_type": "code",
      "execution_count": null,
      "metadata": {
        "id": "Pu8kTHSpja1S",
        "outputId": "ff3ceee2-1ef9-4c60-eb54-8b8c70a4f86c",
        "colab": {
          "base_uri": "https://localhost:8080/"
        }
      },
      "outputs": [
        {
          "output_type": "execute_result",
          "data": {
            "text/plain": [
              "0.0"
            ]
          },
          "metadata": {},
          "execution_count": 12
        }
      ],
      "source": [
        "calculate_sentence_similarity(formatted_sentences[0], formatted_sentences[1])\n",
        "# 0.0"
      ]
    },
    {
      "cell_type": "code",
      "execution_count": null,
      "metadata": {
        "id": "-aWDPc9Wja1S"
      },
      "outputs": [],
      "source": [
        "# Function to create the similarity matrix\n",
        "# The Higher the value, the greater the similarity between the sentences\n",
        "# The more words in common, the grater the similarity\n",
        "\n",
        "def calculate_similarity_matrix(sentences):\n",
        "    # if we have 8 sentences then we should create 8X8 matrix\n",
        "    similarity_matrix = np.zeros((len(sentences), len(sentences)))\n",
        "    #print(similarity_matrix)\n",
        "    for i in range(len(sentences)):\n",
        "        for j in range(len(sentences)):\n",
        "            if i == j:\n",
        "                continue\n",
        "            similarity_matrix[i][j] = calculate_sentence_similarity(sentences[i], sentences[j])\n",
        "    return similarity_matrix\n"
      ]
    },
    {
      "cell_type": "code",
      "execution_count": null,
      "metadata": {
        "id": "qeQn5HjFja1T",
        "outputId": "c1e8eb5b-bbcc-4455-f13e-56ea335931de",
        "colab": {
          "base_uri": "https://localhost:8080/"
        }
      },
      "outputs": [
        {
          "output_type": "execute_result",
          "data": {
            "text/plain": [
              "array([[0.        , 0.        , 0.        , 0.        , 0.14824986,\n",
              "        0.        , 0.18898224, 0.        , 0.10910895, 0.13801311,\n",
              "        0.        , 0.        ],\n",
              "       [0.        , 0.        , 0.        , 0.        , 0.        ,\n",
              "        0.        , 0.        , 0.10910895, 0.        , 0.        ,\n",
              "        0.12309149, 0.        ],\n",
              "       [0.        , 0.        , 0.        , 0.        , 0.        ,\n",
              "        0.        , 0.        , 0.        , 0.        , 0.        ,\n",
              "        0.        , 0.        ],\n",
              "       [0.        , 0.        , 0.        , 0.        , 0.        ,\n",
              "        0.        , 0.        , 0.        , 0.        , 0.        ,\n",
              "        0.        , 0.        ],\n",
              "       [0.14824986, 0.        , 0.        , 0.        , 0.        ,\n",
              "        0.0836242 , 0.09805807, 0.        , 0.1132277 , 0.14322297,\n",
              "        0.        , 0.        ],\n",
              "       [0.        , 0.        , 0.        , 0.        , 0.0836242 ,\n",
              "        0.        , 0.        , 0.0805823 , 0.        , 0.        ,\n",
              "        0.        , 0.        ],\n",
              "       [0.18898224, 0.        , 0.        , 0.        , 0.09805807,\n",
              "        0.        , 0.        , 0.        , 0.14433757, 0.18257419,\n",
              "        0.        , 0.        ],\n",
              "       [0.        , 0.10910895, 0.        , 0.        , 0.        ,\n",
              "        0.0805823 , 0.        , 0.        , 0.        , 0.        ,\n",
              "        0.        , 0.        ],\n",
              "       [0.10910895, 0.        , 0.        , 0.        , 0.1132277 ,\n",
              "        0.        , 0.14433757, 0.        , 0.        , 0.10540926,\n",
              "        0.        , 0.        ],\n",
              "       [0.13801311, 0.        , 0.        , 0.        , 0.14322297,\n",
              "        0.        , 0.18257419, 0.        , 0.10540926, 0.        ,\n",
              "        0.        , 0.        ],\n",
              "       [0.        , 0.12309149, 0.        , 0.        , 0.        ,\n",
              "        0.        , 0.        , 0.        , 0.        , 0.        ,\n",
              "        0.        , 0.        ],\n",
              "       [0.        , 0.        , 0.        , 0.        , 0.        ,\n",
              "        0.        , 0.        , 0.        , 0.        , 0.        ,\n",
              "        0.        , 0.        ]])"
            ]
          },
          "metadata": {},
          "execution_count": 14
        }
      ],
      "source": [
        "calculate_similarity_matrix(formatted_sentences)\n",
        "# Each row is a sentence, each cell represent the semelarity between the current sentence and the next sentence\n",
        "#  "
      ]
    },
    {
      "cell_type": "code",
      "execution_count": null,
      "metadata": {
        "id": "Nm8oanGXja1T"
      },
      "outputs": [],
      "source": [
        "# Function to summarize the texts\n",
        "\n",
        "def summrize(text, number_of_sentences):\n",
        "    original_sentences = [sentence for sentence in nltk.sent_tokenize(text)]\n",
        "    formatted_sentences = [preprocess_sentences(original_sentence) for original_sentence in original_sentences]\n",
        "    similarity_matrix = calculate_similarity_matrix(formatted_sentences)\n",
        "    #print(similarity_matrix)\n",
        "\n",
        "    similarity_graph = nx.from_numpy_array(similarity_matrix)# convert from matrix to graph\n",
        "    # print(similarity_graph.nodes)\n",
        "    # print(similarity_graph.edges)\n",
        "    # We will use a famous algorithm developed by Google for ranking: \"Pagerank algorithm\"\n",
        "    #   it will calculate the relevence of each one of the node based on the incoming links \n",
        "    scores = nx.pagerank(similarity_graph)\n",
        "    #print(scores) # \n",
        "    # {0: 0.1673227400426021, 1: 0.1455558879715914, 2: 0.1275338306533556, 3: 0.10880185703391371, 4: 0.12904008009949403, 5: 0.08959232615044063, 6: 0.020979020979020983, 7: 0.21117425706958176}\n",
        "    # As we can see node number 0 or sentence number 0 has this score:  0.1673227400426021\n",
        "    order_scores = sorted(((scores[i], score) for i, score in enumerate(original_sentences)), reverse=True)\n",
        "    #print(order_scores)#\n",
        "    # as we can see first sentence is the most frequent with most score based on the PageRank Algorithm\n",
        "    \n",
        "    best_sentences = []\n",
        "    for sentence in range(number_of_sentences):\n",
        "        best_sentences.append(order_scores[sentence][1])\n",
        "    return original_sentences, best_sentences, order_scores\n"
      ]
    },
    {
      "cell_type": "code",
      "execution_count": null,
      "metadata": {
        "id": "paPF3Ozjja1T",
        "colab": {
          "base_uri": "https://localhost:8080/"
        },
        "outputId": "5f11f486-d29f-472b-deed-f447ba546235"
      },
      "outputs": [
        {
          "output_type": "stream",
          "name": "stdout",
          "text": [
            "Looking in indexes: https://pypi.org/simple, https://us-python.pkg.dev/colab-wheels/public/simple/\n",
            "Requirement already satisfied: networkx==2.6.3 in /usr/local/lib/python3.8/dist-packages (2.6.3)\n"
          ]
        }
      ],
      "source": [
        "!pip install networkx==2.6.3\n",
        "original_sentences, best_sentences, order_scores = summrize(original_text, 3)\n",
        "# [(0, 1), (0, 3), (0, 7), (1, 2), (1, 4), (1, 7), (2, 4), (2, 5), (3, 7), (4, 7), (5, 7)]\n",
        "# first group means: first sentence is related to second sentence\n",
        "#         \n"
      ]
    },
    {
      "cell_type": "code",
      "execution_count": null,
      "metadata": {
        "id": "Ey11MiC2ja1T",
        "outputId": "cc36a670-2347-4ec7-86bb-6479fd5f3225",
        "colab": {
          "base_uri": "https://localhost:8080/"
        }
      },
      "outputs": [
        {
          "output_type": "execute_result",
          "data": {
            "text/plain": [
              "['Samurai were the hereditary military nobility and officer caste of medieval and early-modern Japan from the late 12th century to their abolition in 1876.',\n",
              " 'They were the well-paid retainers of the daimyo (the great feudal landholders).',\n",
              " 'They had high prestige and special privileges such as wearing two swords.',\n",
              " 'They cultivated the bushido codes of martial virtues, indifference to pain, and unflinching loyalty, engaging in many local battles.',\n",
              " 'Though they had predecessors in earlier military and administrative officers, the samurai truly emerged during the Kamakura shogunate, ruling from c.1185–1333.',\n",
              " 'They became the ruling political class, with significant power but also significant responsibility.',\n",
              " 'During the 13th century, the samurai proved themselves as adept warriors against the invading Mongols.',\n",
              " 'During the peaceful Edo era (1603 to 1868), they became the stewards and chamberlains of the daimyo estates, gaining managerial experience and education.',\n",
              " 'In the 1870s samurai families comprised 5% of the population.',\n",
              " 'As modern militaries emerged in the 19th century, the Samurai were rendered increasingly obsolete as very expensive to maintain compared to the average conscript soldier.',\n",
              " 'The Meiji Restoration ended their feudal roles, and they moved into professional and entrepreneurial roles.',\n",
              " 'Their memory and weaponry remain prominent in Japanese popular culture.']"
            ]
          },
          "metadata": {},
          "execution_count": 17
        }
      ],
      "source": [
        "original_sentences"
      ]
    },
    {
      "cell_type": "code",
      "execution_count": null,
      "metadata": {
        "id": "baWZcjTPja1T",
        "outputId": "4c68d9a6-c250-4a58-9646-8b12bcaf16df",
        "colab": {
          "base_uri": "https://localhost:8080/"
        }
      },
      "outputs": [
        {
          "output_type": "execute_result",
          "data": {
            "text/plain": [
              "['Though they had predecessors in earlier military and administrative officers, the samurai truly emerged during the Kamakura shogunate, ruling from c.1185–1333.',\n",
              " 'During the 13th century, the samurai proved themselves as adept warriors against the invading Mongols.',\n",
              " 'Samurai were the hereditary military nobility and officer caste of medieval and early-modern Japan from the late 12th century to their abolition in 1876.']"
            ]
          },
          "metadata": {},
          "execution_count": 18
        }
      ],
      "source": [
        "best_sentences # top 3"
      ]
    },
    {
      "cell_type": "code",
      "execution_count": null,
      "metadata": {
        "id": "CJDKJ0_Pja1T",
        "outputId": "bfb6310e-74f0-44e1-e1ed-f66de2526f5b",
        "colab": {
          "base_uri": "https://localhost:8080/"
        }
      },
      "outputs": [
        {
          "output_type": "execute_result",
          "data": {
            "text/plain": [
              "[(0.1343937220350119,\n",
              "  'Though they had predecessors in earlier military and administrative officers, the samurai truly emerged during the Kamakura shogunate, ruling from c.1185–1333.'),\n",
              " (0.12808673736942616,\n",
              "  'During the 13th century, the samurai proved themselves as adept warriors against the invading Mongols.'),\n",
              " (0.12307658496828366,\n",
              "  'Samurai were the hereditary military nobility and officer caste of medieval and early-modern Japan from the late 12th century to their abolition in 1876.'),\n",
              " (0.12021448707385485,\n",
              "  'As modern militaries emerged in the 19th century, the Samurai were rendered increasingly obsolete as very expensive to maintain compared to the average conscript soldier.'),\n",
              " (0.11941767194159132,\n",
              "  'They were the well-paid retainers of the daimyo (the great feudal landholders).'),\n",
              " (0.10198262206031346,\n",
              "  'In the 1870s samurai families comprised 5% of the population.'),\n",
              " (0.09063618092062971,\n",
              "  'During the peaceful Edo era (1603 to 1868), they became the stewards and chamberlains of the daimyo estates, gaining managerial experience and education.'),\n",
              " (0.06968041656765145,\n",
              "  'The Meiji Restoration ended their feudal roles, and they moved into professional and entrepreneurial roles.'),\n",
              " (0.06489252944418993,\n",
              "  'They became the ruling political class, with significant power but also significant responsibility.'),\n",
              " (0.015873015873015876,\n",
              "  'They had high prestige and special privileges such as wearing two swords.'),\n",
              " (0.015873015873015876,\n",
              "  'They cultivated the bushido codes of martial virtues, indifference to pain, and unflinching loyalty, engaging in many local battles.'),\n",
              " (0.015873015873015876,\n",
              "  'Their memory and weaponry remain prominent in Japanese popular culture.')]"
            ]
          },
          "metadata": {},
          "execution_count": 19
        }
      ],
      "source": [
        "order_scores"
      ]
    },
    {
      "cell_type": "code",
      "execution_count": null,
      "metadata": {
        "id": "3bPPFHklja1T"
      },
      "outputs": [],
      "source": [
        "# Visualize the Final Output\n",
        "\n",
        "from IPython.core.display import HTML\n",
        "def visualize(title, sentence_list, best_sentences):\n",
        "    text = ''\n",
        "\n",
        "    display(HTML(f'<h1>Summary - {title}</h1>'))\n",
        "    for sentence in sentence_list:\n",
        "        if sentence in best_sentences:\n",
        "            text += ' ' + str(sentence).replace(sentence, f\"<mark>{sentence}</mark>\")\n",
        "        else:\n",
        "            text += ' ' + sentence\n",
        "    display(HTML(f\"\"\" {text} \"\"\"))"
      ]
    },
    {
      "cell_type": "code",
      "execution_count": null,
      "metadata": {
        "id": "1J4lp9vsja1T",
        "outputId": "b4c40c51-a6ab-4f5b-f0b0-741d625b723d",
        "colab": {
          "base_uri": "https://localhost:8080/",
          "height": 213
        }
      },
      "outputs": [
        {
          "output_type": "display_data",
          "data": {
            "text/plain": [
              "<IPython.core.display.HTML object>"
            ],
            "text/html": [
              "<h1>Summary - Samurai</h1>"
            ]
          },
          "metadata": {}
        },
        {
          "output_type": "display_data",
          "data": {
            "text/plain": [
              "<IPython.core.display.HTML object>"
            ],
            "text/html": [
              "  <mark>Samurai were the hereditary military nobility and officer caste of medieval and early-modern Japan from the late 12th century to their abolition in 1876.</mark> They were the well-paid retainers of the daimyo (the great feudal landholders). They had high prestige and special privileges such as wearing two swords. They cultivated the bushido codes of martial virtues, indifference to pain, and unflinching loyalty, engaging in many local battles. <mark>Though they had predecessors in earlier military and administrative officers, the samurai truly emerged during the Kamakura shogunate, ruling from c.1185–1333.</mark> They became the ruling political class, with significant power but also significant responsibility. <mark>During the 13th century, the samurai proved themselves as adept warriors against the invading Mongols.</mark> During the peaceful Edo era (1603 to 1868), they became the stewards and chamberlains of the daimyo estates, gaining managerial experience and education. In the 1870s samurai families comprised 5% of the population. As modern militaries emerged in the 19th century, the Samurai were rendered increasingly obsolete as very expensive to maintain compared to the average conscript soldier. The Meiji Restoration ended their feudal roles, and they moved into professional and entrepreneurial roles. Their memory and weaponry remain prominent in Japanese popular culture. "
            ]
          },
          "metadata": {}
        }
      ],
      "source": [
        "visualize('Samurai', original_sentences, best_sentences)"
      ]
    }
  ],
  "metadata": {
    "interpreter": {
      "hash": "63fd5069d213b44bf678585dea6b12cceca9941eaf7f819626cde1f2670de90d"
    },
    "kernelspec": {
      "display_name": "Python 3.9.6 64-bit",
      "name": "python3"
    },
    "language_info": {
      "codemirror_mode": {
        "name": "ipython",
        "version": 3
      },
      "file_extension": ".py",
      "mimetype": "text/x-python",
      "name": "python",
      "nbconvert_exporter": "python",
      "pygments_lexer": "ipython3",
      "version": "3.9.6"
    },
    "orig_nbformat": 4,
    "colab": {
      "provenance": [],
      "include_colab_link": true
    }
  },
  "nbformat": 4,
  "nbformat_minor": 0
}